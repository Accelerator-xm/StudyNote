{
 "cells": [
  {
   "cell_type": "markdown",
   "id": "7f4c7725",
   "metadata": {},
   "source": [
    "# 数据预处理\n",
    "\n",
    "## 读取数据集\n",
    "\n",
    "创建一个人工数据集，存储在CSV中\n"
   ]
  },
  {
   "cell_type": "code",
   "execution_count": 1,
   "id": "ececd656",
   "metadata": {},
   "outputs": [],
   "source": [
    "import os\n",
    "\n",
    "# 如果不存在时创建data文件夹\n",
    "os.makedirs(os.path.join('data'), exist_ok=True)\n",
    "data_file = os.path.join('data', 'house_tiny.csv')\n",
    "with open(data_file, 'w') as f:\n",
    "    f.write('NumRooms,Alley,Price\\n') #列名\n",
    "    f.write('NA,Pave,127500\\n') # 每行一个样本\n",
    "    f.write(\"2,NA,106000\\n\")\n",
    "    f.write(\"4,NA,178100\\n\")\n",
    "    f.write(\"NA,NA,140000\\n\")\n"
   ]
  },
  {
   "cell_type": "markdown",
   "id": "29c0fd70",
   "metadata": {},
   "source": [
    "pands可以从csv文件中加载原始数据集：**read_csv()**"
   ]
  },
  {
   "cell_type": "code",
   "execution_count": 2,
   "id": "9fedb25f",
   "metadata": {},
   "outputs": [
    {
     "name": "stdout",
     "output_type": "stream",
     "text": [
      "   NumRooms Alley   Price\n",
      "0       NaN  Pave  127500\n",
      "1       2.0   NaN  106000\n",
      "2       4.0   NaN  178100\n",
      "3       NaN   NaN  140000\n"
     ]
    }
   ],
   "source": [
    "import pandas as pd\n",
    "\n",
    "data = pd.read_csv(data_file)\n",
    "print(data)"
   ]
  },
  {
   "cell_type": "markdown",
   "id": "33b28e6e",
   "metadata": {},
   "source": [
    "## 处理缺失值\n",
    "\n",
    "NaN表示缺失值，可以通过**插值法**和**删除法**处理：\n",
    "- 插值法：用替代值弥补缺失值（一下采用插值法）\n",
    "- 删除法：忽略缺失值\n",
    "\n",
    "通过位置索引iloc将data前2列分为inputs，后1列为outputs\n",
    "inputs的缺失的**数值**用同一列的均值替换"
   ]
  },
  {
   "cell_type": "code",
   "execution_count": 4,
   "id": "7b3e6d70",
   "metadata": {},
   "outputs": [
    {
     "name": "stdout",
     "output_type": "stream",
     "text": [
      "   NumRooms Alley\n",
      "0       3.0  Pave\n",
      "1       2.0   NaN\n",
      "2       4.0   NaN\n",
      "3       3.0   NaN\n"
     ]
    }
   ],
   "source": [
    "inputs, outputs = data.iloc[:, 0:2], data.iloc[:, 2]\n",
    "inputs = inputs.fillna(inputs.mean())\n",
    "print(inputs)"
   ]
  },
  {
   "cell_type": "markdown",
   "id": "2c970d07",
   "metadata": {},
   "source": [
    "对于inputs中的类别值或离散值，NaN视作一个类别，则Alley列有两个类别\"Pave\"和\"NaN\"\n",
    "pandas将此列转换成两列\"Alley_Pave\"和\"Alley_NaN\"填入01代表存在与否：**get.dummies()**"
   ]
  },
  {
   "cell_type": "code",
   "execution_count": 5,
   "id": "bd2a3db9",
   "metadata": {},
   "outputs": [
    {
     "name": "stdout",
     "output_type": "stream",
     "text": [
      "   NumRooms  Alley_Pave  Alley_nan\n",
      "0       3.0           1          0\n",
      "1       2.0           0          1\n",
      "2       4.0           0          1\n",
      "3       3.0           0          1\n"
     ]
    }
   ],
   "source": [
    "inputs = pd.get_dummies(inputs, dummy_na=True)\n",
    "print(inputs)"
   ]
  },
  {
   "cell_type": "markdown",
   "id": "2a86e1b2",
   "metadata": {},
   "source": [
    "## 转换为张量格式\n",
    "\n",
    "现在inputs和outputs都是数值类型，可以转换成张量格式"
   ]
  },
  {
   "cell_type": "code",
   "execution_count": 6,
   "id": "7b1adf93",
   "metadata": {},
   "outputs": [
    {
     "data": {
      "text/plain": [
       "(tensor([[3., 1., 0.],\n",
       "         [2., 0., 1.],\n",
       "         [4., 0., 1.],\n",
       "         [3., 0., 1.]], dtype=torch.float64),\n",
       " tensor([127500., 106000., 178100., 140000.], dtype=torch.float64))"
      ]
     },
     "execution_count": 6,
     "metadata": {},
     "output_type": "execute_result"
    }
   ],
   "source": [
    "import torch\n",
    "\n",
    "X = torch.tensor(inputs.to_numpy(dtype=float))\n",
    "Y = torch.tensor(outputs.to_numpy(dtype=float))\n",
    "(X, Y)"
   ]
  },
  {
   "cell_type": "markdown",
   "id": "f5da9e1b",
   "metadata": {},
   "source": [
    "## 练习\n",
    "\n",
    "删除缺失值最多的列"
   ]
  },
  {
   "cell_type": "code",
   "execution_count": 11,
   "id": "0cdcf4ec",
   "metadata": {},
   "outputs": [
    {
     "data": {
      "text/html": [
       "<div>\n",
       "<style scoped>\n",
       "    .dataframe tbody tr th:only-of-type {\n",
       "        vertical-align: middle;\n",
       "    }\n",
       "\n",
       "    .dataframe tbody tr th {\n",
       "        vertical-align: top;\n",
       "    }\n",
       "\n",
       "    .dataframe thead th {\n",
       "        text-align: right;\n",
       "    }\n",
       "</style>\n",
       "<table border=\"1\" class=\"dataframe\">\n",
       "  <thead>\n",
       "    <tr style=\"text-align: right;\">\n",
       "      <th></th>\n",
       "      <th>NumRooms</th>\n",
       "      <th>Price</th>\n",
       "    </tr>\n",
       "  </thead>\n",
       "  <tbody>\n",
       "    <tr>\n",
       "      <th>0</th>\n",
       "      <td>NaN</td>\n",
       "      <td>127500</td>\n",
       "    </tr>\n",
       "    <tr>\n",
       "      <th>1</th>\n",
       "      <td>2.0</td>\n",
       "      <td>106000</td>\n",
       "    </tr>\n",
       "    <tr>\n",
       "      <th>2</th>\n",
       "      <td>4.0</td>\n",
       "      <td>178100</td>\n",
       "    </tr>\n",
       "    <tr>\n",
       "      <th>3</th>\n",
       "      <td>NaN</td>\n",
       "      <td>140000</td>\n",
       "    </tr>\n",
       "  </tbody>\n",
       "</table>\n",
       "</div>"
      ],
      "text/plain": [
       "   NumRooms   Price\n",
       "0       NaN  127500\n",
       "1       2.0  106000\n",
       "2       4.0  178100\n",
       "3       NaN  140000"
      ]
     },
     "execution_count": 11,
     "metadata": {},
     "output_type": "execute_result"
    }
   ],
   "source": [
    "data = pd.read_csv(data_file)\n",
    "# .isnull()：转换成逻辑矩阵，缺失为True\n",
    "# .sum()：按列求和(True为1，False为0，相当于计算缺失值个数)\n",
    "# .idxmax()：获得最大值的下标\n",
    "max_id = data.isnull().sum().idxmax()\n",
    "data_clean = data.drop(columns=[max_id])\n",
    "data_clean"
   ]
  }
 ],
 "metadata": {
  "kernelspec": {
   "display_name": "DL",
   "language": "python",
   "name": "python3"
  },
  "language_info": {
   "codemirror_mode": {
    "name": "ipython",
    "version": 3
   },
   "file_extension": ".py",
   "mimetype": "text/x-python",
   "name": "python",
   "nbconvert_exporter": "python",
   "pygments_lexer": "ipython3",
   "version": "3.9.23"
  }
 },
 "nbformat": 4,
 "nbformat_minor": 5
}
