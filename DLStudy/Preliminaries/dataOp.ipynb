{
 "cells": [
  {
   "cell_type": "markdown",
   "id": "df257ce2",
   "metadata": {},
   "source": [
    "# 数据操作\n",
    "\n",
    "n维数组，也称**张量(tensor)**，类似numpy的ndarray\n",
    "\n",
    "pytorch的张量**优势**：\n",
    "  - 支持GPU加速计算\n",
    "  - 支持自动微分\n"
   ]
  },
  {
   "cell_type": "markdown",
   "id": "cc5a05ee",
   "metadata": {},
   "source": [
    "## 入门\n",
    "\n",
    "介绍一些基本的数值计算工具"
   ]
  },
  {
   "cell_type": "code",
   "execution_count": 1,
   "id": "20cc330d",
   "metadata": {},
   "outputs": [],
   "source": [
    "# 首先导入pytorch\n",
    "import torch"
   ]
  },
  {
   "cell_type": "markdown",
   "id": "7bd6ddb8",
   "metadata": {},
   "source": [
    "**张量**可以有多个维度，1个维的称为**向量(vector)**，2个维的称为**矩阵(matrix)**，张量的每个值称为**元素(element)**，**维度(dim)**从0开始数"
   ]
  },
  {
   "cell_type": "markdown",
   "id": "7d3b52f5",
   "metadata": {},
   "source": [
    "使用**arange()**创建一个行向量\n",
    "默认为整数，也可以指定为浮点数\n",
    "默认存储在内存中，采用CPU计算，也可以指定GPU"
   ]
  },
  {
   "cell_type": "code",
   "execution_count": null,
   "id": "150422e1",
   "metadata": {},
   "outputs": [
    {
     "data": {
      "text/plain": [
       "tensor([ 0,  1,  2,  3,  4,  5,  6,  7,  8,  9, 10, 11])"
      ]
     },
     "execution_count": 2,
     "metadata": {},
     "output_type": "execute_result"
    }
   ],
   "source": [
    "#创建向量x包含0-11的整数\n",
    "x = torch.arange(12)\n",
    "x"
   ]
  },
  {
   "cell_type": "markdown",
   "id": "05cd23c1",
   "metadata": {},
   "source": [
    "张量的形状：**shape属性**，每个维度的长度"
   ]
  },
  {
   "cell_type": "code",
   "execution_count": 3,
   "id": "3e1c4f64",
   "metadata": {},
   "outputs": [
    {
     "data": {
      "text/plain": [
       "torch.Size([12])"
      ]
     },
     "execution_count": 3,
     "metadata": {},
     "output_type": "execute_result"
    }
   ],
   "source": [
    "x.shape"
   ]
  },
  {
   "cell_type": "markdown",
   "id": "de1a7e63",
   "metadata": {},
   "source": [
    "张量的大小size：**numel()**，元素总和"
   ]
  },
  {
   "cell_type": "code",
   "execution_count": 5,
   "id": "f613041b",
   "metadata": {},
   "outputs": [
    {
     "data": {
      "text/plain": [
       "12"
      ]
     },
     "execution_count": 5,
     "metadata": {},
     "output_type": "execute_result"
    }
   ],
   "source": [
    "x.numel()"
   ]
  },
  {
   "cell_type": "markdown",
   "id": "6b56d2f6",
   "metadata": {},
   "source": [
    "重新设置形状：**reshape()**，不改变向量的大小"
   ]
  },
  {
   "cell_type": "code",
   "execution_count": null,
   "id": "65a63132",
   "metadata": {},
   "outputs": [
    {
     "data": {
      "text/plain": [
       "tensor([[ 0,  1,  2],\n",
       "        [ 3,  4,  5],\n",
       "        [ 6,  7,  8],\n",
       "        [ 9, 10, 11]])"
      ]
     },
     "execution_count": 18,
     "metadata": {},
     "output_type": "execute_result"
    }
   ],
   "source": [
    "# 将张量x从形状(12,)变为(3,4)\n",
    "X = x.reshape((3,4))\n",
    "X"
   ]
  },
  {
   "cell_type": "markdown",
   "id": "4f765309",
   "metadata": {},
   "source": [
    "reshape支持自动计算维度长度，可以用-1作为填充值\n",
    "\n",
    "上述例子中把大小12的向量变成3行4列的矩阵，只知道3行时也能计算出4列，可以写成**x.reshape(3,-1)**，同理可以写成**x.reshape(-1,4)**\n",
    "\n",
    "pytorch支持位置参数和元组参数两种传参方式，效果是一样的：\n",
    "  - 位置参数：x.reshape((3,4))\n",
    "  - 元组参数：x.reshape(3,4)"
   ]
  },
  {
   "cell_type": "markdown",
   "id": "6b288ce1",
   "metadata": {},
   "source": [
    "全0张量：zeros()"
   ]
  },
  {
   "cell_type": "code",
   "execution_count": 10,
   "id": "481fb36b",
   "metadata": {},
   "outputs": [
    {
     "data": {
      "text/plain": [
       "tensor([[[0., 0., 0., 0.],\n",
       "         [0., 0., 0., 0.],\n",
       "         [0., 0., 0., 0.]],\n",
       "\n",
       "        [[0., 0., 0., 0.],\n",
       "         [0., 0., 0., 0.],\n",
       "         [0., 0., 0., 0.]]])"
      ]
     },
     "execution_count": 10,
     "metadata": {},
     "output_type": "execute_result"
    }
   ],
   "source": [
    "torch.zeros((2,3,4))"
   ]
  },
  {
   "cell_type": "markdown",
   "id": "6917bb77",
   "metadata": {},
   "source": [
    "全1张量：ones()"
   ]
  },
  {
   "cell_type": "code",
   "execution_count": null,
   "id": "3baed02d",
   "metadata": {},
   "outputs": [
    {
     "data": {
      "text/plain": [
       "tensor([[[1., 1., 1., 1.],\n",
       "         [1., 1., 1., 1.],\n",
       "         [1., 1., 1., 1.]],\n",
       "\n",
       "        [[1., 1., 1., 1.],\n",
       "         [1., 1., 1., 1.],\n",
       "         [1., 1., 1., 1.]]])"
      ]
     },
     "execution_count": 17,
     "metadata": {},
     "output_type": "execute_result"
    }
   ],
   "source": [
    "torch.ones((2,3,4))"
   ]
  },
  {
   "cell_type": "markdown",
   "id": "4127f683",
   "metadata": {},
   "source": [
    "从标准高斯分布(标准正态分布，均值0、方差1)随机采样：randn()"
   ]
  },
  {
   "cell_type": "code",
   "execution_count": 19,
   "id": "9bcec8bf",
   "metadata": {},
   "outputs": [
    {
     "data": {
      "text/plain": [
       "tensor([[-1.1700, -0.6251,  0.9586,  0.3610],\n",
       "        [-0.8830, -1.0980, -0.7370,  0.5211],\n",
       "        [-0.4225, -0.3137,  0.5396, -0.9068]])"
      ]
     },
     "execution_count": 19,
     "metadata": {},
     "output_type": "execute_result"
    }
   ],
   "source": [
    "torch.randn((3,4))"
   ]
  },
  {
   "cell_type": "markdown",
   "id": "5be108c8",
   "metadata": {},
   "source": [
    "还可以用python的列表、numpy的数组等初始化张量"
   ]
  },
  {
   "cell_type": "code",
   "execution_count": 20,
   "id": "b17bf904",
   "metadata": {},
   "outputs": [
    {
     "data": {
      "text/plain": [
       "tensor([[1, 2, 3, 4],\n",
       "        [4, 2, 3, 1],\n",
       "        [3, 4, 2, 1]])"
      ]
     },
     "execution_count": 20,
     "metadata": {},
     "output_type": "execute_result"
    }
   ],
   "source": [
    "torch.tensor([[1,2,3,4], [4,2,3,1], [3,4,2,1]])"
   ]
  },
  {
   "cell_type": "markdown",
   "id": "5bb4b20e",
   "metadata": {},
   "source": [
    "## 运算符\n",
    "\n",
    "**标量运算**：**按元素**计算，对应位置的元素做计算\n",
    "- 一元函数：求幂exp()，对每个元素求幂\n",
    "- 二元函数：相同形状的张量可进行加减乘除幂运算等\n"
   ]
  },
  {
   "cell_type": "code",
   "execution_count": 21,
   "id": "9acab100",
   "metadata": {},
   "outputs": [
    {
     "data": {
      "text/plain": [
       "(tensor([3., 4., 5., 6.]),\n",
       " tensor([-1.,  0.,  1.,  2.]),\n",
       " tensor([2., 4., 6., 8.]),\n",
       " tensor([0.5000, 1.0000, 1.5000, 2.0000]),\n",
       " tensor([ 1.,  4.,  9., 16.]))"
      ]
     },
     "execution_count": 21,
     "metadata": {},
     "output_type": "execute_result"
    }
   ],
   "source": [
    "x = torch.tensor([1.0, 2,3,4])\n",
    "y = torch.tensor([2,2,2,2])\n",
    "# 二元函数对应位置计算\n",
    "(x+y, x-y, x*y, x/y, x**y)"
   ]
  },
  {
   "cell_type": "code",
   "execution_count": 22,
   "id": "2e1aa53c",
   "metadata": {},
   "outputs": [
    {
     "data": {
      "text/plain": [
       "tensor([ 2.7183,  7.3891, 20.0855, 54.5981])"
      ]
     },
     "execution_count": 22,
     "metadata": {},
     "output_type": "execute_result"
    }
   ],
   "source": [
    "# 一元函数求幂\n",
    "torch.exp(x)"
   ]
  },
  {
   "cell_type": "markdown",
   "id": "8bc22bd2",
   "metadata": {},
   "source": [
    "**连接(concatenate)**：**cat()**，将两个张量**端对端拼接**，给出张量和拼接的**度dim**"
   ]
  },
  {
   "cell_type": "code",
   "execution_count": 23,
   "id": "e2621164",
   "metadata": {},
   "outputs": [
    {
     "data": {
      "text/plain": [
       "(tensor([[ 0.,  1.,  2.,  3.],\n",
       "         [ 4.,  5.,  6.,  7.],\n",
       "         [ 8.,  9., 10., 11.],\n",
       "         [ 2.,  1.,  4.,  3.],\n",
       "         [ 1.,  2.,  3.,  4.],\n",
       "         [ 4.,  3.,  2.,  1.]]),\n",
       " tensor([[ 0.,  1.,  2.,  3.,  2.,  1.,  4.,  3.],\n",
       "         [ 4.,  5.,  6.,  7.,  1.,  2.,  3.,  4.],\n",
       "         [ 8.,  9., 10., 11.,  4.,  3.,  2.,  1.]]))"
      ]
     },
     "execution_count": 23,
     "metadata": {},
     "output_type": "execute_result"
    }
   ],
   "source": [
    "X = torch.arange(12, dtype=torch.float32).reshape((3,4))\n",
    "Y = torch.tensor([[2.0, 1, 4, 3], [1, 2, 3, 4], [4, 3, 2, 1]])\n",
    "# 第0维：按行拼接\n",
    "# 第1维：按列拼接\n",
    "(torch.cat((X,Y), dim=0), torch.cat((X,Y), dim=1))"
   ]
  },
  {
   "cell_type": "markdown",
   "id": "231fb623",
   "metadata": {},
   "source": [
    "通过**逻辑运算符**构建张量，元素值为真(true/1)、假(false/0)"
   ]
  },
  {
   "cell_type": "code",
   "execution_count": 24,
   "id": "eb7a50a4",
   "metadata": {},
   "outputs": [
    {
     "data": {
      "text/plain": [
       "tensor([[False,  True, False,  True],\n",
       "        [False, False, False, False],\n",
       "        [False, False, False, False]])"
      ]
     },
     "execution_count": 24,
     "metadata": {},
     "output_type": "execute_result"
    }
   ],
   "source": [
    "X == Y"
   ]
  },
  {
   "cell_type": "markdown",
   "id": "6978290b",
   "metadata": {},
   "source": [
    "对所有元素求和**sum()**，得到单元素张量"
   ]
  },
  {
   "cell_type": "code",
   "execution_count": 25,
   "id": "aea48099",
   "metadata": {},
   "outputs": [
    {
     "data": {
      "text/plain": [
       "tensor(66.)"
      ]
     },
     "execution_count": 25,
     "metadata": {},
     "output_type": "execute_result"
    }
   ],
   "source": [
    "X.sum()"
   ]
  },
  {
   "cell_type": "markdown",
   "id": "ed0f3d91",
   "metadata": {},
   "source": [
    "## 广播机制\n",
    "\n",
    "对于形状不同的张量可以通过**广播机制**来执行按元素操作\n",
    "- 要求：从最后一个维度开始比较，要么相等，要么有一方为1"
   ]
  },
  {
   "cell_type": "code",
   "execution_count": null,
   "id": "7d4cf389",
   "metadata": {},
   "outputs": [
    {
     "data": {
      "text/plain": [
       "tensor([[0, 1],\n",
       "        [1, 2],\n",
       "        [2, 3]])"
      ]
     },
     "execution_count": 26,
     "metadata": {},
     "output_type": "execute_result"
    }
   ],
   "source": [
    "# 对于3行1列的矩阵与1行2列的矩阵相加时：\n",
    "# - 前者复制1列变成3行2列\n",
    "# - 后者复制2行变成3行2列\n",
    "# - 然后相加\n",
    "\n",
    "a = torch.arange(3).reshape((3,1))\n",
    "b = torch.arange(2).reshape((1,2))\n",
    "a+b"
   ]
  },
  {
   "cell_type": "code",
   "execution_count": 51,
   "id": "a0237f77",
   "metadata": {},
   "outputs": [
    {
     "data": {
      "text/plain": [
       "tensor([[[0, 1, 2],\n",
       "         [1, 2, 3]],\n",
       "\n",
       "        [[2, 3, 4],\n",
       "         [3, 4, 5]],\n",
       "\n",
       "        [[4, 5, 6],\n",
       "         [5, 6, 7]]])"
      ]
     },
     "execution_count": 51,
     "metadata": {},
     "output_type": "execute_result"
    }
   ],
   "source": [
    "a = torch.arange(6).reshape((3,2,1))\n",
    "b = torch.arange(3).reshape((1,3)) # 看成(1,1,3)\n",
    "# (3,2,1)和(1,1,3)每个维度都不等，但是都有一方为1\n",
    "a+b"
   ]
  },
  {
   "cell_type": "code",
   "execution_count": 52,
   "id": "4878c457",
   "metadata": {},
   "outputs": [
    {
     "ename": "RuntimeError",
     "evalue": "shape '[3, 1, 1]' is invalid for input of size 6",
     "output_type": "error",
     "traceback": [
      "\u001b[1;31m---------------------------------------------------------------------------\u001b[0m",
      "\u001b[1;31mRuntimeError\u001b[0m                              Traceback (most recent call last)",
      "Cell \u001b[1;32mIn[52], line 1\u001b[0m\n\u001b[1;32m----> 1\u001b[0m a \u001b[38;5;241m=\u001b[39m \u001b[43mtorch\u001b[49m\u001b[38;5;241;43m.\u001b[39;49m\u001b[43marange\u001b[49m\u001b[43m(\u001b[49m\u001b[38;5;241;43m6\u001b[39;49m\u001b[43m)\u001b[49m\u001b[38;5;241;43m.\u001b[39;49m\u001b[43mreshape\u001b[49m\u001b[43m(\u001b[49m\u001b[43m(\u001b[49m\u001b[38;5;241;43m3\u001b[39;49m\u001b[43m,\u001b[49m\u001b[38;5;241;43m1\u001b[39;49m\u001b[43m,\u001b[49m\u001b[38;5;241;43m1\u001b[39;49m\u001b[43m)\u001b[49m\u001b[43m)\u001b[49m\n\u001b[0;32m      2\u001b[0m b \u001b[38;5;241m=\u001b[39m torch\u001b[38;5;241m.\u001b[39marange(\u001b[38;5;241m3\u001b[39m)\u001b[38;5;241m.\u001b[39mreshape((\u001b[38;5;241m1\u001b[39m,\u001b[38;5;241m3\u001b[39m)) \u001b[38;5;66;03m# 看成(1,1,3)\u001b[39;00m\n\u001b[0;32m      3\u001b[0m \u001b[38;5;66;03m# (3,1,2)和(1,1,3)最后一维既不相等，也没有1，报错\u001b[39;00m\n",
      "\u001b[1;31mRuntimeError\u001b[0m: shape '[3, 1, 1]' is invalid for input of size 6"
     ]
    }
   ],
   "source": [
    "a = torch.arange(6).reshape((3,1,1))\n",
    "b = torch.arange(3).reshape((1,3)) # 看成(1,1,3)\n",
    "# (3,1,2)和(1,1,3)最后一维既不相等，也没有1，报错\n",
    "a+b"
   ]
  },
  {
   "cell_type": "markdown",
   "id": "46fe3301",
   "metadata": {},
   "source": [
    "## 索引和切片\n",
    "\n",
    "张量可以通过索引访问，第一个元素索引为0，最后一个元素索引为-1，支持切片"
   ]
  },
  {
   "cell_type": "code",
   "execution_count": 27,
   "id": "63246530",
   "metadata": {},
   "outputs": [
    {
     "data": {
      "text/plain": [
       "(tensor([ 8.,  9., 10., 11.]),\n",
       " tensor([[ 4.,  5.,  6.,  7.],\n",
       "         [ 8.,  9., 10., 11.]]))"
      ]
     },
     "execution_count": 27,
     "metadata": {},
     "output_type": "execute_result"
    }
   ],
   "source": [
    "# 访问X的最后一个元素\n",
    "# 切片：第2个和第三个元素\n",
    "(X[-1], X[1:3])"
   ]
  },
  {
   "cell_type": "markdown",
   "id": "78699825",
   "metadata": {},
   "source": [
    "指定索引写入"
   ]
  },
  {
   "cell_type": "code",
   "execution_count": 29,
   "id": "7e81600c",
   "metadata": {},
   "outputs": [
    {
     "data": {
      "text/plain": [
       "tensor([[ 0.,  1.,  2.,  3.],\n",
       "        [ 4.,  5., 14.,  7.],\n",
       "        [ 8.,  9., 10., 11.]])"
      ]
     },
     "execution_count": 29,
     "metadata": {},
     "output_type": "execute_result"
    }
   ],
   "source": [
    "X[1,2] = 14\n",
    "X"
   ]
  },
  {
   "cell_type": "markdown",
   "id": "6e46faf7",
   "metadata": {},
   "source": [
    "指定切片写入"
   ]
  },
  {
   "cell_type": "code",
   "execution_count": 31,
   "id": "2b453cdb",
   "metadata": {},
   "outputs": [
    {
     "data": {
      "text/plain": [
       "tensor([[ 0.,  1.,  2.,  3.],\n",
       "        [15., 15., 15., 15.],\n",
       "        [15., 15., 15., 15.]])"
      ]
     },
     "execution_count": 31,
     "metadata": {},
     "output_type": "execute_result"
    }
   ],
   "source": [
    "# 将第2行和第3行变为15\n",
    "X[1:3, :] = 15\n",
    "X"
   ]
  },
  {
   "cell_type": "markdown",
   "id": "4bc70dbb",
   "metadata": {},
   "source": [
    "## 节省内存\n",
    "\n",
    "运行操作会为新结果分配内存，如 Y=X+Y，Y会指向新分配的张量"
   ]
  },
  {
   "cell_type": "code",
   "execution_count": null,
   "id": "ad0dd55a",
   "metadata": {},
   "outputs": [
    {
     "data": {
      "text/plain": [
       "False"
      ]
     },
     "execution_count": 33,
     "metadata": {},
     "output_type": "execute_result"
    }
   ],
   "source": [
    "# id()可以知道对象的确切地址\n",
    "before = id(Y)\n",
    "Y = Y+X\n",
    "id(Y) == before"
   ]
  },
  {
   "cell_type": "markdown",
   "id": "dfb25278",
   "metadata": {},
   "source": [
    "可以用**切片**执行**原地操作**，不产生新的对象"
   ]
  },
  {
   "cell_type": "code",
   "execution_count": 35,
   "id": "210e0d17",
   "metadata": {},
   "outputs": [
    {
     "name": "stdout",
     "output_type": "stream",
     "text": [
      "id(Z):  1755679266352\n",
      "id(Z):  1755679266352\n"
     ]
    }
   ],
   "source": [
    "Z = torch.zeros_like(Y)\n",
    "print(\"id(Z): \", id(Z))\n",
    "Z[:] = X + Y\n",
    "print(\"id(Z): \", id(Z))"
   ]
  },
  {
   "cell_type": "markdown",
   "id": "9f3b085e",
   "metadata": {},
   "source": [
    "如果后续不需要原值，可以用原地操作节省内存\n",
    "可以用**切片**，也可以用**复合赋值运算符**(+=, -=等)"
   ]
  },
  {
   "cell_type": "code",
   "execution_count": 36,
   "id": "f455a1ff",
   "metadata": {},
   "outputs": [
    {
     "data": {
      "text/plain": [
       "True"
      ]
     },
     "execution_count": 36,
     "metadata": {},
     "output_type": "execute_result"
    }
   ],
   "source": [
    "before = id(X)\n",
    "X += Y\n",
    "id(X) == before"
   ]
  },
  {
   "cell_type": "markdown",
   "id": "8f7a1af7",
   "metadata": {},
   "source": [
    "## 转换为其他python对象\n",
    "\n",
    "pyhton的列表、numpy的数组、pytorch张量之间可以很简单的互相转换"
   ]
  },
  {
   "cell_type": "code",
   "execution_count": 38,
   "id": "afa9fcad",
   "metadata": {},
   "outputs": [
    {
     "data": {
      "text/plain": [
       "(numpy.ndarray, torch.Tensor)"
      ]
     },
     "execution_count": 38,
     "metadata": {},
     "output_type": "execute_result"
    }
   ],
   "source": [
    "# torch张量转换成numpy数组\n",
    "A = X.numpy()\n",
    "# numpy数组转换成torch张量\n",
    "B = torch.tensor(A)\n",
    "(type(A), type(B))"
   ]
  },
  {
   "cell_type": "markdown",
   "id": "58777f38",
   "metadata": {},
   "source": [
    "将大小为1得到张量转换为python标量：item()、内置函数等"
   ]
  },
  {
   "cell_type": "code",
   "execution_count": 39,
   "id": "7c6d3aef",
   "metadata": {},
   "outputs": [
    {
     "data": {
      "text/plain": [
       "(tensor([3.5000]), 3.5, 3.5, 3)"
      ]
     },
     "execution_count": 39,
     "metadata": {},
     "output_type": "execute_result"
    }
   ],
   "source": [
    "a = torch.tensor([3.5])\n",
    "(a, a.item(), float(a), int(a))"
   ]
  }
 ],
 "metadata": {
  "kernelspec": {
   "display_name": "DL",
   "language": "python",
   "name": "python3"
  },
  "language_info": {
   "codemirror_mode": {
    "name": "ipython",
    "version": 3
   },
   "file_extension": ".py",
   "mimetype": "text/x-python",
   "name": "python",
   "nbconvert_exporter": "python",
   "pygments_lexer": "ipython3",
   "version": "3.9.23"
  }
 },
 "nbformat": 4,
 "nbformat_minor": 5
}
